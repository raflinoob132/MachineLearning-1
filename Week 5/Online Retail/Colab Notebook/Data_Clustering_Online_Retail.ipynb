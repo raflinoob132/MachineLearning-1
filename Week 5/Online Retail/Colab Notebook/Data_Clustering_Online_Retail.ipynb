{
  "nbformat": 4,
  "nbformat_minor": 0,
  "metadata": {
    "colab": {
      "provenance": [],
      "authorship_tag": "ABX9TyPZzuVXYaYW5nLeBwr6AfEl",
      "include_colab_link": true
    },
    "kernelspec": {
      "name": "python3",
      "display_name": "Python 3"
    },
    "language_info": {
      "name": "python"
    }
  },
  "cells": [
    {
      "cell_type": "markdown",
      "metadata": {
        "id": "view-in-github",
        "colab_type": "text"
      },
      "source": [
        "<a href=\"https://colab.research.google.com/github/raflinoob132/MachineLearning-1/blob/main/Week%205/Online%20Retail/Colab%20Notebook/Data_Clustering_Online_Retail.ipynb\" target=\"_parent\"><img src=\"https://colab.research.google.com/assets/colab-badge.svg\" alt=\"Open In Colab\"/></a>"
      ]
    },
    {
      "cell_type": "code",
      "execution_count": 1,
      "metadata": {
        "id": "VKdS0Nc_ZBEQ"
      },
      "outputs": [],
      "source": [
        "import pandas as pd\n",
        "import numpy as np\n",
        "import matplotlib.pyplot as plt\n",
        "import seaborn as sns\n",
        "\n",
        "from sklearn.preprocessing import StandardScaler\n",
        "from sklearn.cluster import KMeans, AgglomerativeClustering\n",
        "from sklearn.metrics import silhouette_score, calinski_harabasz_score, davies_bouldin_score\n",
        "from scipy.spatial.distance import cdist, pdist, squareform\n"
      ]
    },
    {
      "cell_type": "code",
      "source": [
        "# Load dataset\n",
        "df = pd.read_excel(\"/mnt/data/Online Retail.xlsx\")\n",
        "\n",
        "# Hapus baris yang memiliki missing value\n",
        "df.dropna(inplace=True)\n",
        "\n",
        "# Hanya ambil data dengan Quantity > 0 dan UnitPrice > 0\n",
        "df = df[(df['Quantity'] > 0) & (df['UnitPrice'] > 0)]\n",
        "\n",
        "# Buat fitur baru: TotalPrice = Quantity * UnitPrice\n",
        "df['TotalPrice'] = df['Quantity'] * df['UnitPrice']\n",
        "\n",
        "# Agregasi data per Customer\n",
        "customer_df = df.groupby('CustomerID').agg({\n",
        "    'InvoiceDate': lambda x: (x.max() - x.min()).days,\n",
        "    'InvoiceNo': 'nunique',\n",
        "    'Quantity': 'sum',\n",
        "    'TotalPrice': 'sum'\n",
        "}).rename(columns={\n",
        "    'InvoiceDate': 'Recency',\n",
        "    'InvoiceNo': 'Frequency',\n",
        "    'Quantity': 'TotalQuantity',\n",
        "    'TotalPrice': 'Monetary'\n",
        "}).reset_index()\n",
        "\n",
        "# Standarisasi\n",
        "features = ['Recency', 'Frequency', 'TotalQuantity', 'Monetary']\n",
        "scaler = StandardScaler()\n",
        "X = scaler.fit_transform(customer_df[features])\n"
      ],
      "metadata": {
        "id": "uLD3GD4YZDwe"
      },
      "execution_count": null,
      "outputs": []
    }
  ]
}
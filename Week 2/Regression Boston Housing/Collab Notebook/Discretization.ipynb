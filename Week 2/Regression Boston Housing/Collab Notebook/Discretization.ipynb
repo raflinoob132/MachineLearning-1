{
  "nbformat": 4,
  "nbformat_minor": 0,
  "metadata": {
    "colab": {
      "provenance": [],
      "authorship_tag": "ABX9TyOZO0CJ53usVwUJc7et9rkh",
      "include_colab_link": true
    },
    "kernelspec": {
      "name": "python3",
      "display_name": "Python 3"
    },
    "language_info": {
      "name": "python"
    }
  },
  "cells": [
    {
      "cell_type": "markdown",
      "metadata": {
        "id": "view-in-github",
        "colab_type": "text"
      },
      "source": [
        "<a href=\"https://colab.research.google.com/github/raflinoob132/MachineLearning-1/blob/main/Week%202/Regression%20Boston%20Housing/Collab%20Notebook/Discretization.ipynb\" target=\"_parent\"><img src=\"https://colab.research.google.com/assets/colab-badge.svg\" alt=\"Open In Colab\"/></a>"
      ]
    },
    {
      "cell_type": "code",
      "execution_count": null,
      "metadata": {
        "colab": {
          "base_uri": "https://localhost:8080/"
        },
        "id": "CtZo6E4ernv8",
        "outputId": "1c49ae5c-e35f-47bc-b23e-d12c08f217a7"
      },
      "outputs": [
        {
          "output_type": "stream",
          "name": "stdout",
          "text": [
            "Model dengan Fitur Kontinu:\n",
            "  MSE: 24.2911\n",
            "  R²: 0.6688\n",
            "\n",
            "Model dengan Fitur Discretisasi:\n",
            "  MSE: 17.0118\n",
            "  R²: 0.7680\n"
          ]
        }
      ],
      "source": [
        "import pandas as pd\n",
        "import numpy as np\n",
        "from sklearn.model_selection import train_test_split\n",
        "from sklearn.linear_model import LinearRegression\n",
        "from sklearn.metrics import mean_squared_error, r2_score\n",
        "from sklearn.preprocessing import KBinsDiscretizer, OneHotEncoder\n",
        "\n",
        "# Load dataset\n",
        "url = \"https://raw.githubusercontent.com/selva86/datasets/master/BostonHousing.csv\"\n",
        "df = pd.read_csv(url)\n",
        "\n",
        "# Pisahkan fitur (X) dan target (y)\n",
        "X = df.drop('medv', axis=1)\n",
        "y = df['medv']\n",
        "\n",
        "# Bagi data menjadi training dan testing\n",
        "X_train, X_test, y_train, y_test = train_test_split(X, y, test_size=0.2, random_state=42)\n",
        "\n",
        "# Discretization menggunakan KBinsDiscretizer\n",
        "# Contoh: Discretize fitur 'rm' (jumlah kamar) menjadi 5 kategori\n",
        "discretizer = KBinsDiscretizer(n_bins=5, encode='ordinal', strategy='uniform')\n",
        "X_train_discrete = X_train.copy()\n",
        "X_test_discrete = X_test.copy()\n",
        "\n",
        "# Fitur yang akan didiscretisasi (misalnya, 'rm', 'lstat', 'age')\n",
        "features_to_discretize = ['rm', 'lstat', 'age']\n",
        "\n",
        "for feature in features_to_discretize:\n",
        "    X_train_discrete[feature] = discretizer.fit_transform(X_train[[feature]]).flatten()\n",
        "    X_test_discrete[feature] = discretizer.transform(X_test[[feature]]).flatten()\n",
        "\n",
        "# Encoding kategori menggunakan OneHotEncoder\n",
        "encoder = OneHotEncoder(sparse_output=False, drop='first')  # drop='first' untuk menghindari multicollinearity\n",
        "X_train_encoded = encoder.fit_transform(X_train_discrete[features_to_discretize])\n",
        "X_test_encoded = encoder.transform(X_test_discrete[features_to_discretize])\n",
        "\n",
        "# Gabungkan fitur yang didiscretisasi dengan fitur lainnya\n",
        "X_train_final = np.hstack((X_train_discrete.drop(features_to_discretize, axis=1).values, X_train_encoded))\n",
        "X_test_final = np.hstack((X_test_discrete.drop(features_to_discretize, axis=1).values, X_test_encoded))\n",
        "\n",
        "# Latih model dengan fitur kontinu (baseline)\n",
        "model_continuous = LinearRegression()\n",
        "model_continuous.fit(X_train, y_train)\n",
        "y_pred_continuous = model_continuous.predict(X_test)\n",
        "mse_continuous = mean_squared_error(y_test, y_pred_continuous)\n",
        "r2_continuous = r2_score(y_test, y_pred_continuous)\n",
        "\n",
        "# Latih model dengan fitur yang didiscretisasi\n",
        "model_discrete = LinearRegression()\n",
        "model_discrete.fit(X_train_final, y_train)\n",
        "y_pred_discrete = model_discrete.predict(X_test_final)\n",
        "mse_discrete = mean_squared_error(y_test, y_pred_discrete)\n",
        "r2_discrete = r2_score(y_test, y_pred_discrete)\n",
        "\n",
        "# Bandingkan hasil\n",
        "print(\"Model dengan Fitur Kontinu:\")\n",
        "print(f\"  MSE: {mse_continuous:.4f}\")\n",
        "print(f\"  R²: {r2_continuous:.4f}\")\n",
        "print()\n",
        "print(\"Model dengan Fitur Discretisasi:\")\n",
        "print(f\"  MSE: {mse_discrete:.4f}\")\n",
        "print(f\"  R²: {r2_discrete:.4f}\")"
      ]
    }
  ]
}
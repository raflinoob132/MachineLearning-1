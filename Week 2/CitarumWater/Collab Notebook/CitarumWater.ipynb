{
  "nbformat": 4,
  "nbformat_minor": 0,
  "metadata": {
    "colab": {
      "provenance": [],
      "authorship_tag": "ABX9TyMn3H/GjjN+pGCAD1qS/UNo",
      "include_colab_link": true
    },
    "kernelspec": {
      "name": "python3",
      "display_name": "Python 3"
    },
    "language_info": {
      "name": "python"
    }
  },
  "cells": [
    {
      "cell_type": "markdown",
      "metadata": {
        "id": "view-in-github",
        "colab_type": "text"
      },
      "source": [
        "<a href=\"https://colab.research.google.com/github/raflinoob132/MachineLearning-1/blob/main/Week%202/CitarumWater/Collab%20Notebook/CitarumWater.ipynb\" target=\"_parent\"><img src=\"https://colab.research.google.com/assets/colab-badge.svg\" alt=\"Open In Colab\"/></a>"
      ]
    },
    {
      "cell_type": "code",
      "execution_count": 5,
      "metadata": {
        "colab": {
          "base_uri": "https://localhost:8080/"
        },
        "id": "RctosNCdW8e5",
        "outputId": "020974b2-b558-4395-e04d-241e206566e5"
      },
      "outputs": [
        {
          "output_type": "stream",
          "name": "stdout",
          "text": [
            "Requirement already satisfied: mglearn in /usr/local/lib/python3.11/dist-packages (0.2.0)\n",
            "Requirement already satisfied: numpy in /usr/local/lib/python3.11/dist-packages (from mglearn) (1.26.4)\n",
            "Requirement already satisfied: matplotlib in /usr/local/lib/python3.11/dist-packages (from mglearn) (3.10.0)\n",
            "Requirement already satisfied: scikit-learn in /usr/local/lib/python3.11/dist-packages (from mglearn) (1.6.1)\n",
            "Requirement already satisfied: pandas in /usr/local/lib/python3.11/dist-packages (from mglearn) (2.2.2)\n",
            "Requirement already satisfied: pillow in /usr/local/lib/python3.11/dist-packages (from mglearn) (11.1.0)\n",
            "Requirement already satisfied: cycler in /usr/local/lib/python3.11/dist-packages (from mglearn) (0.12.1)\n",
            "Requirement already satisfied: imageio in /usr/local/lib/python3.11/dist-packages (from mglearn) (2.37.0)\n",
            "Requirement already satisfied: joblib in /usr/local/lib/python3.11/dist-packages (from mglearn) (1.4.2)\n",
            "Requirement already satisfied: contourpy>=1.0.1 in /usr/local/lib/python3.11/dist-packages (from matplotlib->mglearn) (1.3.1)\n",
            "Requirement already satisfied: fonttools>=4.22.0 in /usr/local/lib/python3.11/dist-packages (from matplotlib->mglearn) (4.56.0)\n",
            "Requirement already satisfied: kiwisolver>=1.3.1 in /usr/local/lib/python3.11/dist-packages (from matplotlib->mglearn) (1.4.8)\n",
            "Requirement already satisfied: packaging>=20.0 in /usr/local/lib/python3.11/dist-packages (from matplotlib->mglearn) (24.2)\n",
            "Requirement already satisfied: pyparsing>=2.3.1 in /usr/local/lib/python3.11/dist-packages (from matplotlib->mglearn) (3.2.1)\n",
            "Requirement already satisfied: python-dateutil>=2.7 in /usr/local/lib/python3.11/dist-packages (from matplotlib->mglearn) (2.8.2)\n",
            "Requirement already satisfied: pytz>=2020.1 in /usr/local/lib/python3.11/dist-packages (from pandas->mglearn) (2025.1)\n",
            "Requirement already satisfied: tzdata>=2022.7 in /usr/local/lib/python3.11/dist-packages (from pandas->mglearn) (2025.1)\n",
            "Requirement already satisfied: scipy>=1.6.0 in /usr/local/lib/python3.11/dist-packages (from scikit-learn->mglearn) (1.13.1)\n",
            "Requirement already satisfied: threadpoolctl>=3.1.0 in /usr/local/lib/python3.11/dist-packages (from scikit-learn->mglearn) (3.5.0)\n",
            "Requirement already satisfied: six>=1.5 in /usr/local/lib/python3.11/dist-packages (from python-dateutil>=2.7->matplotlib->mglearn) (1.17.0)\n"
          ]
        }
      ],
      "source": [
        "!pip install mglearn\n",
        "import pandas as pd\n",
        "import numpy as np\n",
        "import matplotlib.pyplot as plt\n",
        "from sklearn.model_selection import train_test_split\n",
        "from sklearn.linear_model import LogisticRegression\n",
        "from sklearn.preprocessing import StandardScaler\n",
        "from sklearn.metrics import (\n",
        "    accuracy_score, precision_score, recall_score, f1_score,\n",
        "    roc_auc_score, roc_curve, confusion_matrix, classification_report\n",
        ")\n",
        "from sklearn.impute import SimpleImputer\n",
        "\n",
        "import mglearn"
      ]
    },
    {
      "cell_type": "code",
      "source": [
        "# Load dataset\n",
        "url = \"https://raw.githubusercontent.com/farrelrassya/teachingMLDL/refs/heads/main/01.%20Machine%20Learning/02.%20Week%202/Dataset/CitarumWater.csv\"\n",
        "df = pd.read_csv(url)\n",
        "\n",
        "# 1. Hapus kolom yang tidak diperlukan\n",
        "df = df.drop(['No', 'NamaSungai', 'Waktu', 'TitikPantau', 'O2'], axis=1)\n",
        "\n",
        "# 2. Konversi kolom 'Temp' ke float\n",
        "df['Temp'] = df['Temp'].str.replace('°C', '', regex=True).astype(float)\n",
        "\n",
        "# 3. Hapus baris dengan NaN\n",
        "df = df.dropna()\n",
        "# 4. Pastikan tidak ada NaN tersisa\n",
        "print(\"Jumlah NaN setelah preprocessing:\")\n",
        "print(df.isnull().sum())\n",
        "\n",
        "# 5. Pisahkan fitur (X) dan target (y)\n",
        "X = df.drop('Class', axis=1)\n",
        "y = df['Class']\n",
        "\n",
        "# 6. Bagi data training dan testing\n",
        "X_train, X_test, y_train, y_test = train_test_split(X, y, test_size=0.2, random_state=42)"
      ],
      "metadata": {
        "colab": {
          "base_uri": "https://localhost:8080/"
        },
        "id": "z1Y5FA2PXU6V",
        "outputId": "15932f34-7c34-4f39-ba44-61bf67b1865c"
      },
      "execution_count": 34,
      "outputs": [
        {
          "output_type": "stream",
          "name": "stdout",
          "text": [
            "Jumlah NaN setelah preprocessing:\n",
            "pH               0\n",
            "Temp             0\n",
            "TSS              0\n",
            "DO               0\n",
            "BOD              0\n",
            "COD              0\n",
            "Nitrat           0\n",
            "FecalColiform    0\n",
            "Fosfat           0\n",
            "IP               0\n",
            "Class            0\n",
            "dtype: int64\n"
          ]
        }
      ]
    },
    {
      "cell_type": "code",
      "source": [
        "# 7. Normalisasi data\n",
        "scaler = StandardScaler()\n",
        "X_train_scaled = scaler.fit_transform(X_train)\n",
        "X_test_scaled = scaler.transform(X_test)\n",
        "\n",
        "# 8. Pastikan tidak ada NaN setelah scaling\n",
        "print(\"\\nJumlah NaN di X_train_scaled:\", np.isnan(X_train_scaled).sum())\n",
        "print(\"Jumlah NaN di X_test_scaled:\", np.isnan(X_test_scaled).sum())\n",
        "\n",
        "# 9. Buat dan latih model\n",
        "model = LogisticRegression(\n",
        "    max_iter=5000,\n",
        "    solver='lbfgs',\n",
        "    multi_class='multinomial',\n",
        "    random_state=42\n",
        ")\n",
        "model.fit(X_train_scaled, y_train)\n",
        "y_pred_proba = model.predict_proba(X_test_scaled)  # Probabilitas per kelas\n",
        "\n",
        "# 10. Prediksi dan evaluasi\n",
        "y_pred = model.predict(X_test_scaled)\n",
        "print(\"\\nAkurasi:\", accuracy_score(y_test, y_pred))\n",
        "print(\"Classification Report:\\n\", classification_report(y_test, y_pred))"
      ],
      "metadata": {
        "colab": {
          "base_uri": "https://localhost:8080/"
        },
        "id": "chYmiyhYaHSc",
        "outputId": "a64db5a1-38c7-4139-e0b1-c660b95ec670"
      },
      "execution_count": 37,
      "outputs": [
        {
          "output_type": "stream",
          "name": "stdout",
          "text": [
            "\n",
            "Jumlah NaN di X_train_scaled: 0\n",
            "Jumlah NaN di X_test_scaled: 0\n",
            "\n",
            "Akurasi: 0.958\n",
            "Classification Report:\n",
            "               precision    recall  f1-score   support\n",
            "\n",
            "           1       0.96      0.94      0.95       196\n",
            "           2       0.96      0.97      0.96       294\n",
            "           3       1.00      0.83      0.91         6\n",
            "           4       1.00      1.00      1.00         4\n",
            "\n",
            "    accuracy                           0.96       500\n",
            "   macro avg       0.98      0.94      0.96       500\n",
            "weighted avg       0.96      0.96      0.96       500\n",
            "\n"
          ]
        },
        {
          "output_type": "stream",
          "name": "stderr",
          "text": [
            "/usr/local/lib/python3.11/dist-packages/sklearn/linear_model/_logistic.py:1247: FutureWarning: 'multi_class' was deprecated in version 1.5 and will be removed in 1.7. From then on, it will always use 'multinomial'. Leave it to its default value to avoid this warning.\n",
            "  warnings.warn(\n"
          ]
        }
      ]
    },
    {
      "cell_type": "code",
      "source": [
        "accuracy = accuracy_score(y_test, y_pred)\n",
        "precision = precision_score(y_test, y_pred, average='weighted')\n",
        "recall = recall_score(y_test, y_pred, average='weighted')\n",
        "f1 = f1_score(y_test, y_pred, average='weighted')\n",
        "auc = roc_auc_score(y_test, y_pred_proba, multi_class='ovr', average='weighted')  # AUC untuk multiclass\n",
        "\n",
        "print(f\"Akurasi: {accuracy:.2f}\")\n",
        "print(f\"Presisi: {precision:.2f}\")\n",
        "print(f\"Recall: {recall:.2f}\")\n",
        "print(f\"F1-Score: {f1:.2f}\")\n",
        "print(f\"AUC-ROC: {auc:.2f}\\n\")\n",
        "\n",
        "print(\"Classification Report:\")\n",
        "print(classification_report(y_test, y_pred))\n",
        "print(\"Confusion Matrix:\")\n",
        "print(confusion_matrix(y_test, y_pred))\n",
        "\n"
      ],
      "metadata": {
        "colab": {
          "base_uri": "https://localhost:8080/"
        },
        "id": "d3gXVmqEejrp",
        "outputId": "d81b181b-be47-4d66-e7b6-93ccf6418093"
      },
      "execution_count": 41,
      "outputs": [
        {
          "output_type": "stream",
          "name": "stdout",
          "text": [
            "Akurasi: 0.96\n",
            "Presisi: 0.96\n",
            "Recall: 0.96\n",
            "F1-Score: 0.96\n",
            "AUC-ROC: 1.00\n",
            "\n",
            "Classification Report:\n",
            "              precision    recall  f1-score   support\n",
            "\n",
            "           1       0.96      0.94      0.95       196\n",
            "           2       0.96      0.97      0.96       294\n",
            "           3       1.00      0.83      0.91         6\n",
            "           4       1.00      1.00      1.00         4\n",
            "\n",
            "    accuracy                           0.96       500\n",
            "   macro avg       0.98      0.94      0.96       500\n",
            "weighted avg       0.96      0.96      0.96       500\n",
            "\n",
            "Confusion Matrix:\n",
            "[[184  12   0   0]\n",
            " [  8 286   0   0]\n",
            " [  0   1   5   0]\n",
            " [  0   0   0   4]]\n"
          ]
        }
      ]
    }
  ]
}
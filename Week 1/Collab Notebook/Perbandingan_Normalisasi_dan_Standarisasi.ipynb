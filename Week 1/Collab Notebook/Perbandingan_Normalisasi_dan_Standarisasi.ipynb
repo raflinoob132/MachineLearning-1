{
  "nbformat": 4,
  "nbformat_minor": 0,
  "metadata": {
    "colab": {
      "provenance": [],
      "authorship_tag": "ABX9TyNwWvjTv6uKN6n9bFOMv2TF",
      "include_colab_link": true
    },
    "kernelspec": {
      "name": "python3",
      "display_name": "Python 3"
    },
    "language_info": {
      "name": "python"
    }
  },
  "cells": [
    {
      "cell_type": "markdown",
      "metadata": {
        "id": "view-in-github",
        "colab_type": "text"
      },
      "source": [
        "<a href=\"https://colab.research.google.com/github/raflinoob132/MachineLearning-1/blob/main/Week%201/Collab%20Notebook/Perbandingan_Normalisasi_dan_Standarisasi.ipynb\" target=\"_parent\"><img src=\"https://colab.research.google.com/assets/colab-badge.svg\" alt=\"Open In Colab\"/></a>"
      ]
    },
    {
      "cell_type": "code",
      "execution_count": 4,
      "metadata": {
        "colab": {
          "base_uri": "https://localhost:8080/"
        },
        "id": "F5nJuzjlnJ6U",
        "outputId": "74fad8d4-d636-42d7-f05d-33d000d5a998"
      },
      "outputs": [
        {
          "output_type": "stream",
          "name": "stdout",
          "text": [
            "MinMax Scaling:\n",
            "  MSE: 24.2911\n",
            "  R²: 0.6688\n",
            "\n",
            "Standard Scaling:\n",
            "  MSE: 24.2911\n",
            "  R²: 0.6688\n",
            "\n",
            "Robust Scaling:\n",
            "  MSE: 24.2911\n",
            "  R²: 0.6688\n",
            "\n"
          ]
        }
      ],
      "source": [
        "import pandas as pd\n",
        "import numpy as np\n",
        "from sklearn.model_selection import train_test_split\n",
        "from sklearn.linear_model import LinearRegression\n",
        "from sklearn.metrics import mean_squared_error, r2_score\n",
        "from sklearn.preprocessing import MinMaxScaler, StandardScaler, RobustScaler\n",
        "\n",
        "# Load dataset\n",
        "url = \"https://raw.githubusercontent.com/selva86/datasets/master/BostonHousing.csv\"\n",
        "df = pd.read_csv(url)\n",
        "\n",
        "# Pisahkan fitur (X) dan target (y)\n",
        "X = df.drop('medv', axis=1)\n",
        "y = df['medv']\n",
        "\n",
        "# Bagi data menjadi training dan testing\n",
        "X_train, X_test, y_train, y_test = train_test_split(X, y, test_size=0.2, random_state=42)\n",
        "\n",
        "# Inisialisasi scaler\n",
        "minmax_scaler = MinMaxScaler()\n",
        "standard_scaler = StandardScaler()\n",
        "robust_scaler = RobustScaler()\n",
        "\n",
        "# Scaling data training\n",
        "X_train_minmax = minmax_scaler.fit_transform(X_train)\n",
        "X_train_standard = standard_scaler.fit_transform(X_train)\n",
        "X_train_robust = robust_scaler.fit_transform(X_train)\n",
        "\n",
        "# Scaling data testing (gunakan transform, bukan fit_transform)\n",
        "X_test_minmax = minmax_scaler.transform(X_test)\n",
        "X_test_standard = standard_scaler.transform(X_test)\n",
        "X_test_robust = robust_scaler.transform(X_test)\n",
        "\n",
        "# Fungsi untuk melatih model dan evaluasi\n",
        "def train_and_evaluate(X_train, X_test, y_train, y_test, method_name):\n",
        "    model = LinearRegression()\n",
        "    model.fit(X_train, y_train)\n",
        "    y_pred = model.predict(X_test)\n",
        "    mse = mean_squared_error(y_test, y_pred)\n",
        "    r2 = r2_score(y_test, y_pred)\n",
        "    print(f\"{method_name}:\")\n",
        "    print(f\"  MSE: {mse:.4f}\")\n",
        "    print(f\"  R²: {r2:.4f}\")\n",
        "    print()\n",
        "\n",
        "# Evaluasi model dengan data yang di-scaling\n",
        "train_and_evaluate(X_train_minmax, X_test_minmax, y_train, y_test, \"MinMax Scaling\")\n",
        "train_and_evaluate(X_train_standard, X_test_standard, y_train, y_test, \"Standard Scaling\")\n",
        "train_and_evaluate(X_train_robust, X_test_robust, y_train, y_test, \"Robust Scaling\")"
      ]
    }
  ]
}